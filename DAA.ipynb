{
 "cells": [
  {
   "cell_type": "code",
   "execution_count": 1,
   "id": "2917083b",
   "metadata": {},
   "outputs": [
    {
     "name": "stdout",
     "output_type": "stream",
     "text": [
      "Leader: 200\n"
     ]
    }
   ],
   "source": [
    "a = [16, 17, 4, 3, 5, 200]\n",
    "for i in range(0, len(a)):\n",
    "    leader=True\n",
    "    for j in range(i + 1, len(a)):  \n",
    "        if a[i] <= a[j]:\n",
    "            leader = False\n",
    "            break\n",
    "    if leader:\n",
    "        print(\"Leader:\", a[i])\n"
   ]
  },
  {
   "cell_type": "code",
   "execution_count": 30,
   "id": "77b0fb97",
   "metadata": {},
   "outputs": [
    {
     "name": "stdout",
     "output_type": "stream",
     "text": [
      "leader: 17\n",
      "leader: 5\n",
      "leader: 1\n"
     ]
    }
   ],
   "source": [
    "a = [16, 17, 4, 3, 5, 1]\n",
    "n = len(a)\n",
    "\n",
    "for i in range(n):\n",
    "    if all(a[i] >= a[j] for j in range(i + 1, n)):\n",
    "        print(\"leader:\", a[i])\n"
   ]
  },
  {
   "cell_type": "code",
   "execution_count": 2,
   "id": "a935c5ba",
   "metadata": {},
   "outputs": [
    {
     "name": "stdout",
     "output_type": "stream",
     "text": [
      "3 86 4 57 5 26 9\n"
     ]
    }
   ],
   "source": [
    "a = [4,5,57,3,86,26,9]\n",
    "output = []\n",
    "a.sort()\n",
    "i = 0\n",
    "j = len(a) - 1\n",
    "while i < j:\n",
    "    output.extend([a[i], a[j]])\n",
    "    i += 1\n",
    "    j -= 1\n",
    "if i == j:\n",
    "    output.append(a[i])\n",
    "print(' '.join(map(str, output)))"
   ]
  },
  {
   "cell_type": "code",
   "execution_count": 26,
   "id": "fece5a72",
   "metadata": {
    "scrolled": true
   },
   "outputs": [
    {
     "name": "stdout",
     "output_type": "stream",
     "text": [
      "[1, 2, 3, 4, 6, 7, 8]\n",
      "31\n",
      "[1, 2, 3, 4, 5, 6, 7, 8]\n",
      "36\n",
      "missing:  5\n"
     ]
    }
   ],
   "source": [
    "arr=[1,2,4,3,6,7,8]\n",
    "def insertionSort(arr):\n",
    "    n = len(arr)\n",
    "    for i in range(1, n):\n",
    "        key = arr[i]\n",
    "        j = i - 1\n",
    "        while j >= 0 and key < arr[j]:\n",
    "            arr[j + 1] = arr[j]\n",
    "            j -= 1\n",
    "        arr[j + 1] = key\n",
    "insertionSort(arr)\n",
    "print(arr)\n",
    "sum=0\n",
    "for i in range((len(arr))):\n",
    "    sum=sum+arr[i]\n",
    "print(sum)\n",
    "\n",
    "s=[]\n",
    "s.extend(range(arr[0],arr[-1]+1))\n",
    "print(s)\n",
    "sum2=0\n",
    "for i in range((len(s))):\n",
    "    sum2=sum2+s[i]\n",
    "print(sum2)\n",
    "missing=sum2-sum\n",
    "print(\"missing: \",missing)\n",
    "\n",
    "    \n"
   ]
  },
  {
   "cell_type": "code",
   "execution_count": 8,
   "id": "d9361ffa",
   "metadata": {},
   "outputs": [
    {
     "name": "stdout",
     "output_type": "stream",
     "text": [
      "[1, 2, 3, 4]\n"
     ]
    }
   ],
   "source": [
    "#selection sort\n",
    "a=[3,1,2,4]\n",
    "for i in range(len(a)):\n",
    "    for j in range(i+1, len(a)):\n",
    "        min=i\n",
    "        if a[j]<a[min]:\n",
    "            min=j\n",
    "            a[i],a[min]=a[min],a[i]\n",
    "print(a)\n",
    "\n",
    "        "
   ]
  },
  {
   "cell_type": "code",
   "execution_count": 3,
   "id": "a46a3730",
   "metadata": {},
   "outputs": [
    {
     "name": "stdout",
     "output_type": "stream",
     "text": [
      "1 3 5\n",
      "2 3 4\n"
     ]
    }
   ],
   "source": [
    "a=[1,2,3,4,5]\n",
    "for i in range(len(a)):\n",
    "    for j in range(i+1,len(a)):\n",
    "        for k in range(j+1,len(a)):\n",
    "            if a[i]+a[j]+a[k]==9:\n",
    "                print(a[i],a[j],a[k])"
   ]
  },
  {
   "cell_type": "code",
   "execution_count": 7,
   "id": "f6f6f8e1",
   "metadata": {},
   "outputs": [
    {
     "name": "stdout",
     "output_type": "stream",
     "text": [
      "5\n"
     ]
    }
   ],
   "source": [
    "a=[2,3,6,6,5]\n",
    "for i in range(len(a)):\n",
    "    max=a[i]\n",
    "    for j in range(i+1,len(a)):\n",
    "        if max<a[j]:\n",
    "            max=a[j]\n",
    "print(max)"
   ]
  },
  {
   "cell_type": "code",
   "execution_count": 16,
   "id": "0f649616",
   "metadata": {},
   "outputs": [
    {
     "name": "stdout",
     "output_type": "stream",
     "text": [
      "1 3 5\n",
      "2 3 4\n"
     ]
    }
   ],
   "source": [
    "a = [1,2,3,4,5]\n",
    "targets = 9\n",
    "a.sort()\n",
    "\n",
    "for i in range(len(a)):\n",
    "    left = i + 1\n",
    "    right = len(a) - 1\n",
    "\n",
    "    while left < right:\n",
    "        currents = a[i] + a[left] + a[right]\n",
    "\n",
    "        if currents == targets:\n",
    "            print(a[i], a[left], a[right])\n",
    "            left += 1\n",
    "            right -= 1\n",
    "        elif currents < targets:\n",
    "            left += 1\n",
    "        else:\n",
    "            right -= 1\n"
   ]
  },
  {
   "cell_type": "code",
   "execution_count": 27,
   "id": "3cf074f3",
   "metadata": {},
   "outputs": [
    {
     "name": "stdout",
     "output_type": "stream",
     "text": [
      "[0, 0, 0, 1, 1, 1, 2, 2, 2, 3, 3]\n"
     ]
    }
   ],
   "source": [
    "def insertionSort(arr):\n",
    "    n = len(arr)\n",
    "    for i in range(1, n):\n",
    "        key = arr[i]\n",
    "        j = i - 1\n",
    "        while j >= 0 and key < arr[j]:\n",
    "            arr[j + 1] = arr[j]\n",
    "            j -= 1\n",
    "        arr[j + 1] = key\n",
    "insertionSort(arr)\n",
    "print(arr)\n",
    "arr=[0,0,1,2,0,3,1,2,3,2,1]"
   ]
  },
  {
   "cell_type": "code",
   "execution_count": 13,
   "id": "e252519d",
   "metadata": {},
   "outputs": [
    {
     "name": "stdout",
     "output_type": "stream",
     "text": [
      "[1, 2, 3]\n",
      "[4, 5, 6]\n",
      "[7, 8, 9]\n"
     ]
    }
   ],
   "source": [
    "nested = [[1, 2, 3], [4, 5, 6], [7, 8, 9]]\n",
    "for i in range(len(nested)):\n",
    "     print(nested[i])\n",
    "        "
   ]
  },
  {
   "cell_type": "code",
   "execution_count": 3,
   "id": "acb1044c",
   "metadata": {},
   "outputs": [
    {
     "name": "stdout",
     "output_type": "stream",
     "text": [
      "1 2 3 \n",
      "4 5 6 \n",
      "7 8 9 \n"
     ]
    }
   ],
   "source": [
    "nested = [[1, 2, 3], [4, 5, 6], [7, 8, 9]]\n",
    "\n",
    "for i in range(len(nested)):\n",
    "    for j in range(len(nested[i])):\n",
    "        print(nested[i][j],end=\" \")\n",
    "    print( )\n"
   ]
  },
  {
   "cell_type": "code",
   "execution_count": 2,
   "id": "adb78174",
   "metadata": {},
   "outputs": [
    {
     "name": "stdout",
     "output_type": "stream",
     "text": [
      "1 2 3 \n",
      "4 5 6 \n",
      "7 8 9 \n"
     ]
    }
   ],
   "source": [
    "n = [[1, 2, 3], [4, 5, 6], [7, 8, 9]]\n",
    "for a in n:\n",
    "    for b in a:\n",
    "        print(b,end=\" \")\n",
    "    print( )"
   ]
  },
  {
   "cell_type": "code",
   "execution_count": 2,
   "id": "a3fa0764",
   "metadata": {},
   "outputs": [
    {
     "name": "stdout",
     "output_type": "stream",
     "text": [
      "3 2 1 \n",
      "6 5 4 \n",
      "9 8 7 \n",
      "after loop: \n",
      "3 6 9 \n",
      "2 5 8 \n",
      "1 4 7 \n"
     ]
    }
   ],
   "source": [
    "nested = [[1, 2, 3], [4, 5, 6], [7, 8, 9]]\n",
    "for sub in nested:\n",
    "    sub.reverse( )\n",
    "    \n",
    "for i in range(len(nested)):\n",
    "    for j in range(len(nested[i])):\n",
    "        print(nested[i][j],end=\" \")\n",
    "    print( )\n",
    "print('after loop: ')\n",
    "\n",
    "    \n",
    "for j in range(len(nested[0])):\n",
    "    for  i in range(len(nested)):\n",
    "        print(nested[i][j],end=\" \")\n",
    "    print( )   \n",
    "    \n",
    "    "
   ]
  },
  {
   "cell_type": "code",
   "execution_count": 13,
   "id": "0f77c69e",
   "metadata": {},
   "outputs": [
    {
     "name": "stdout",
     "output_type": "stream",
     "text": [
      "[[3, 2, 1], [4, 5, 6], [9, 8, 7]]\n"
     ]
    }
   ],
   "source": [
    "a = [[ 1, 2,3], [4,5,6], [ 7, 8,9]]\n",
    "\n",
    "for i in range(len(a)):\n",
    "    if i % 2 == 0:\n",
    "        a[i].reverse()\n",
    "\n",
    "print(a)\n"
   ]
  },
  {
   "cell_type": "code",
   "execution_count": 20,
   "id": "2231f4f3",
   "metadata": {},
   "outputs": [
    {
     "name": "stdout",
     "output_type": "stream",
     "text": [
      "3 6 9 \n",
      "2 5 8 \n",
      "1 4 7 \n"
     ]
    }
   ],
   "source": [
    "a = [[ 1, 2,3], [4,5,6], [ 7, 8,9]]\n",
    "for i in range(len(a)):\n",
    "    a[i].reverse( )\n",
    "for j in range(len(a[0])):\n",
    "    for i in range(len(a)):\n",
    "        print(a[i][j],end=\" \")\n",
    "    print( )    "
   ]
  },
  {
   "cell_type": "code",
   "execution_count": 5,
   "id": "bf894cb7",
   "metadata": {},
   "outputs": [
    {
     "name": "stdout",
     "output_type": "stream",
     "text": [
      "[2, 3, 0, 1]\n",
      "[2, 3, 0, 1]\n",
      "[2, 3, 0, 1]\n",
      "[2, 3, 0, 1]\n"
     ]
    }
   ],
   "source": [
    "a=[2,3,0,1]\n",
    "for i in range(len(a)):\n",
    "    if (i==a[i]):\n",
    "        print(\"s\")\n",
    "for i in range(len(a)):\n",
    "    for j in a:\n",
    "        if i is j:\n",
    "            a[i],j==j,a[i]\n",
    "            print(a)\n",
    "    "
   ]
  },
  {
   "cell_type": "code",
   "execution_count": 6,
   "id": "a32c9545",
   "metadata": {},
   "outputs": [
    {
     "name": "stdout",
     "output_type": "stream",
     "text": [
      "0, 1, 2, 3\n"
     ]
    }
   ],
   "source": [
    "a = [2, 3, 0, 1]\n",
    "result = []\n",
    "for i in range(len(a)):\n",
    "    for j in range(len(a)):\n",
    "        if i == a[j]:\n",
    "            result.append(str(i))\n",
    "output = ', '.join(result)\n",
    "print(output)"
   ]
  },
  {
   "cell_type": "code",
   "execution_count": 6,
   "id": "f5330b4b",
   "metadata": {},
   "outputs": [
    {
     "name": "stdout",
     "output_type": "stream",
     "text": [
      "1 0 1 1 \n",
      "1 1 1 0 \n",
      "1 0 1 0 \n",
      "1 0 0 1 \n"
     ]
    }
   ],
   "source": [
    "a=[[1,0,1,1],[1,1,1,0],[1,0,1,0],[1,0,0,1]]\n",
    "for i in range(len(a)):\n",
    "    for j in range(len(a)):\n",
    "        print(a[i][j],end=\" \")\n",
    "    print( )  \n",
    "    "
   ]
  },
  {
   "cell_type": "code",
   "execution_count": 15,
   "id": "74a9ac02",
   "metadata": {},
   "outputs": [
    {
     "name": "stdout",
     "output_type": "stream",
     "text": [
      "1\n"
     ]
    }
   ],
   "source": [
    "a = [[1, 0, 0, 1], [1, 1, 1, 0], [1, 0, 1, 0], [1, 0, 0, 1]]\n",
    "\n",
    "maxindex = -1\n",
    "maxcount = 0  \n",
    "for i in range(len(a)):\n",
    "    onescount = a[i].count(1)  \n",
    "    if onescount > maxcount:\n",
    "        maxcount = onescount  \n",
    "        maxindex = i  \n",
    "print(maxindex)"
   ]
  },
  {
   "cell_type": "code",
   "execution_count": 47,
   "id": "ab5ad1b8",
   "metadata": {},
   "outputs": [
    {
     "name": "stdout",
     "output_type": "stream",
     "text": [
      "[3, 8, 13]\n",
      "24\n",
      "[6, 7, 8, 9, 10]\n",
      "40\n",
      "64\n",
      "8\n",
      "56\n"
     ]
    }
   ],
   "source": [
    "a = [\n",
    "    [1, 2, 3, 4, 5],\n",
    "    [6, 7, 8, 9, 10],\n",
    "    [11, 12, 13, 14, 15]\n",
    "]\n",
    "\n",
    "result = [row[2] for row in a]\n",
    "print(result)\n",
    "b = sum(result)\n",
    "print(b)\n",
    "\n",
    "c = a[1]\n",
    "print(c)\n",
    "\n",
    "d = sum(c)\n",
    "print(d)\n",
    "\n",
    "e = b + d\n",
    "print(e)\n",
    "\n",
    "f=a[1][2]\n",
    "print(f)\n",
    "\n",
    "g=e-f\n",
    "print(g)\n"
   ]
  },
  {
   "cell_type": "code",
   "execution_count": 7,
   "id": "154f5c7a",
   "metadata": {},
   "outputs": [
    {
     "name": "stdout",
     "output_type": "stream",
     "text": [
      "[[7, 6, 5], [1, 2, 3], [8, 4, 9]]\n"
     ]
    }
   ],
   "source": [
    "a=[[7,6,5],[1,2,3],[8,4,9]]\n",
    "for i in range(len(a)):\n",
    "    for j in range(i):\n",
    "        for k in range(j+1):\n",
    "            min=j\n",
    "            if a[k]<a[min]:\n",
    "                min=k\n",
    "                a[j],a[min]=a[min],a[j]\n",
    "print(a)\n",
    "                   \n"
   ]
  },
  {
   "cell_type": "code",
   "execution_count": 19,
   "id": "1208859d",
   "metadata": {},
   "outputs": [
    {
     "name": "stdout",
     "output_type": "stream",
     "text": [
      "[[7, 6, 5], [1, 2, 3], [8, 4, 9]]\n"
     ]
    }
   ],
   "source": [
    "a=[[7,6,5],[1,2,3],[8,4,9]]\n",
    "for  i in a:\n",
    "    for j in i:\n",
    "        for k in i:\n",
    "            if j>k:\n",
    "                j,k=k,j\n",
    "print(a)"
   ]
  },
  {
   "cell_type": "code",
   "execution_count": 21,
   "id": "c655d373",
   "metadata": {},
   "outputs": [
    {
     "name": "stdout",
     "output_type": "stream",
     "text": [
      "[[5, 6, 7], [1, 2, 3], [4, 8, 9]]\n"
     ]
    }
   ],
   "source": [
    "a = [[7, 6, 5], [1, 2, 3], [8, 4, 9]]\n",
    "for i in a:\n",
    "    for j in range(len(i)):\n",
    "        for k in range(j + 1, len(i)):\n",
    "            if i[j] > i[k]:\n",
    "                i[j], i[k] = i[k], i[j]\n",
    "print(a)\n"
   ]
  },
  {
   "cell_type": "code",
   "execution_count": 22,
   "id": "348b7bf6",
   "metadata": {},
   "outputs": [
    {
     "name": "stdout",
     "output_type": "stream",
     "text": [
      "[[1, 2, 3], [4, 8, 9], [5, 6, 7]]\n"
     ]
    }
   ],
   "source": [
    "a = [[7, 6, 5], [1, 2, 3], [8, 4, 9]]\n",
    "\n",
    "# Sort the individual lists using bubble sort\n",
    "for sublist in a:\n",
    "    for i in range(len(sublist)):\n",
    "        for j in range(0, len(sublist) - i - 1):\n",
    "            if sublist[j] > sublist[j + 1]:\n",
    "                sublist[j], sublist[j + 1] = sublist[j + 1], sublist[j]\n",
    "\n",
    "# Manually sort the list of lists based on the first element\n",
    "for i in range(len(a)):\n",
    "    for j in range(0, len(a) - i - 1):\n",
    "        if a[j][0] > a[j + 1][0]:\n",
    "            a[j], a[j + 1] = a[j + 1], a[j]\n",
    "print(a)"
   ]
  },
  {
   "cell_type": "code",
   "execution_count": 25,
   "id": "899fd0aa",
   "metadata": {},
   "outputs": [
    {
     "name": "stdout",
     "output_type": "stream",
     "text": [
      "6\n"
     ]
    }
   ],
   "source": [
    "def mul(a,b):\n",
    "    if b==0:\n",
    "        return 0\n",
    "    elif b<0:\n",
    "        return -mul(a,-b)\n",
    "    else:\n",
    "        return a+mul(a,b-1)\n",
    "print(mul(2,3))"
   ]
  },
  {
   "cell_type": "code",
   "execution_count": 2,
   "id": "e8c37aab",
   "metadata": {},
   "outputs": [
    {
     "name": "stdout",
     "output_type": "stream",
     "text": [
      "Inorder traversal:\n",
      "7 8 10 20 \n",
      "Enter a key to search for: 10\n",
      "10 found in the tree.\n"
     ]
    }
   ],
   "source": [
    "class node:\n",
    "    def __init__(self, key):\n",
    "        self.key = key\n",
    "        self.left = None\n",
    "        self.right = None\n",
    "\n",
    "def inorder(root):\n",
    "    if root:\n",
    "        inorder(root.left)\n",
    "        print(root.key, end=\" \")\n",
    "        inorder(root.right)\n",
    "def search(root, target):\n",
    "    if root is None or root.key == target:\n",
    "        return root\n",
    "    if root.key < target:\n",
    "        return search(root.right, target)\n",
    "    return search(root.left, target)\n",
    "\n",
    "root=node(10)\n",
    "root.left=node(8)\n",
    "root.right=node(20)\n",
    "root.left.left=node(7)\n",
    "print(\"Inorder traversal:\")\n",
    "inorder(root)\n",
    "search_key = int(input(\"\\nEnter a key to search for: \"))\n",
    "result = search(root, search_key)\n",
    "if result:\n",
    "    print(f\"{search_key} found in the tree.\")\n",
    "else:\n",
    "    print(f\"{search_key} not found in the tree.\")\n"
   ]
  },
  {
   "cell_type": "code",
   "execution_count": 7,
   "id": "ac00b375",
   "metadata": {},
   "outputs": [
    {
     "name": "stdout",
     "output_type": "stream",
     "text": [
      "Inorder traversal:\n",
      "7 8 9 10 15 20 21 \n",
      "Sum of leaf nodes: 52\n"
     ]
    }
   ],
   "source": [
    "class node:\n",
    "    def __init__(self, key):\n",
    "        self.key = key\n",
    "        self.left = None\n",
    "        self.right = None\n",
    "\n",
    "def inorder(root):\n",
    "    if root:\n",
    "        inorder(root.left)\n",
    "        print(root.key, end=\" \")\n",
    "        inorder(root.right)\n",
    "def sum_leaf_nodes(root):\n",
    "    if root is None:\n",
    "        return 0\n",
    "    if root.left is None and root.right is None:\n",
    "        return root.key\n",
    "    return sum_leaf_nodes(root.left) + sum_leaf_nodes(root.right)\n",
    "\n",
    "root=node(10)\n",
    "root.left=node(8)\n",
    "root.right=node(20)\n",
    "root.left.left=node(7)\n",
    "root.left.right=node(9)\n",
    "root.right.left=node(15)\n",
    "root.right.right=node(21)\n",
    "print(\"Inorder traversal:\")\n",
    "inorder(root)\n",
    "leaf_sum = sum_leaf_nodes(root)\n",
    "print(\"\\nSum of leaf nodes:\", leaf_sum)\n"
   ]
  },
  {
   "cell_type": "code",
   "execution_count": 21,
   "id": "30f2ae20",
   "metadata": {},
   "outputs": [
    {
     "name": "stdout",
     "output_type": "stream",
     "text": [
      "52\n"
     ]
    }
   ],
   "source": [
    "class Node:\n",
    "    def __init__(self, key):\n",
    "        self.key = key\n",
    "        self.left = None\n",
    "        self.right = None\n",
    "\n",
    "root = Node(10)\n",
    "root.left = Node(8)\n",
    "root.right = Node(20)\n",
    "root.left.left = Node(7)\n",
    "root.left.right = Node(9)\n",
    "root.right.left = Node(15)\n",
    "root.right.right = Node(21)\n",
    "\n",
    "leaf_nodes = []\n",
    "\n",
    "def collect_leaf_nodes(node):\n",
    "    if node is None:\n",
    "        return\n",
    "    if node.left is None and node.right is None:\n",
    "        leaf_nodes.append(node.key)\n",
    "    if node.left:\n",
    "        collect_leaf_nodes(node.left)\n",
    "    if node.right:\n",
    "        collect_leaf_nodes(node.right)\n",
    "collect_leaf_nodes(root)\n",
    "sum=0\n",
    "\n",
    "for i in range(len(leaf_nodes)):\n",
    "    sum=sum+leaf_nodes[i]\n",
    "print(sum)"
   ]
  }
 ],
 "metadata": {
  "kernelspec": {
   "display_name": "Python 3 (ipykernel)",
   "language": "python",
   "name": "python3"
  },
  "language_info": {
   "codemirror_mode": {
    "name": "ipython",
    "version": 3
   },
   "file_extension": ".py",
   "mimetype": "text/x-python",
   "name": "python",
   "nbconvert_exporter": "python",
   "pygments_lexer": "ipython3",
   "version": "3.9.12"
  }
 },
 "nbformat": 4,
 "nbformat_minor": 5
}
